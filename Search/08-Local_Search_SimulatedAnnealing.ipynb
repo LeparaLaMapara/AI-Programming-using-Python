{
 "cells": [
  {
   "cell_type": "markdown",
   "source": [
    "<div class='alert alert-success'>\n",
    "    <h1 align=\"center\">Local Search Algorithms: Simulated Annealing for N-Queens</h1> \n",
    "    <h3 align=\"center\">Artificial Intelligece Course (Fall 2021)</h3>\n",
    "    <h5 align=\"center\">Seyed Naser RAZAVI <a href='http://www.snrazavi.ir/ai-slides/'>(website)</a></h5>\n",
    "</div>"
   ],
   "metadata": {}
  },
  {
   "cell_type": "code",
   "execution_count": 1,
   "source": [
    "import math\n",
    "import random\n",
    "import matplotlib.pyplot as plt\n",
    "\n",
    "import ipywidgets as widgets\n",
    "from IPython.display import clear_output\n",
    "\n",
    "from utils import timed\n",
    "from nqueens import NQueensState, NQueensStatePermutation\n",
    "from nqueens import create_animation, summarize_history\n",
    "\n",
    "plt.rcParams['figure.figsize'] = (6, 6)"
   ],
   "outputs": [],
   "metadata": {}
  },
  {
   "cell_type": "markdown",
   "source": [
    "## N-Queens Problem\n",
    "- **Goal**: Place N queens on a N-by-N chess board so that no two queens can attack each other.\n",
    "- Thus a solution requires that no two queens share the same row, column or diagonal.\n",
    "\n",
    "<p align=\"center\">\n",
    "    <img src=\"imgs/Four-Queens-Local-Search.png\" width=\"80%\">\n",
    "</p>\n",
    "<h6 align=\"center\">4-Queens problem</h6>"
   ],
   "metadata": {}
  },
  {
   "cell_type": "markdown",
   "source": [
    "### Problem formulation: First formulation\n",
    "- **States**: each column contains only one queen.\n",
    "- **Actions**: move a queen to another row in its column.\n",
    "- **State Space Size**: $N^N$\n"
   ],
   "metadata": {}
  },
  {
   "cell_type": "markdown",
   "source": [
    "### Problem formulation: Second formulation (Permuatation)\n",
    "- **States**: each column and each row contains only one queen.\n",
    "- **Actions**: move a queen to another row in its column which is not occupied.\n",
    "- **State Space Size**: $N!$"
   ],
   "metadata": {}
  },
  {
   "cell_type": "code",
   "execution_count": 2,
   "source": [
    "state = NQueensState.random_state(N=8)\n",
    "print(state)"
   ],
   "outputs": [
    {
     "output_type": "stream",
     "name": "stdout",
     "text": [
      "[3, 3, 1, 5, 1, 7, 1, 7] <9>\n"
     ]
    }
   ],
   "metadata": {}
  },
  {
   "cell_type": "code",
   "execution_count": 3,
   "source": [
    "state.plot(show_conflicts=True)"
   ],
   "outputs": [
    {
     "output_type": "display_data",
     "data": {
      "image/png": "[encoded data removed]",
      "text/plain": [
       "<Figure size 432x432 with 1 Axes>"
      ]
     },
     "metadata": {
      "needs_background": "light"
     }
    }
   ],
   "metadata": {}
  },
  {
   "cell_type": "code",
   "execution_count": 4,
   "source": [
    "best_neighbor = state.best_neighbor()\n",
    "best_neighbor.plot(show_conflicts=True)"
   ],
   "outputs": [
    {
     "output_type": "display_data",
     "data": {
      "image/png": "[encoded data removed]",
      "text/plain": [
       "<Figure size 432x432 with 1 Axes>"
      ]
     },
     "metadata": {
      "needs_background": "light"
     }
    }
   ],
   "metadata": {}
  },
  {
   "cell_type": "code",
   "execution_count": 5,
   "source": [
    "best_neighbor"
   ],
   "outputs": [
    {
     "output_type": "execute_result",
     "data": {
      "text/plain": [
       "NQueensState(queens=[3, 8, 1, 5, 1, 7, 1, 7])"
      ]
     },
     "metadata": {},
     "execution_count": 5
    }
   ],
   "metadata": {}
  },
  {
   "cell_type": "markdown",
   "source": [
    "## Simulated Annealing\n",
    "<img src=\"imgs/simulated_annealing.png\" width=\"80%\">"
   ],
   "metadata": {}
  },
  {
   "cell_type": "code",
   "execution_count": 6,
   "source": [
    "class SimulatedAnnealing:\n",
    "    def __init__(self):\n",
    "        self.history = []\n",
    "        self.T = None\n",
    "    \n",
    "    def search(self, state, T0=10, alpha=0.99, tol=1e-8, verbose=0):\n",
    "        self.T = T0\n",
    "        current = state\n",
    "\n",
    "        while True:\n",
    "\n",
    "            clear_output(wait=True)\n",
    "            if verbose == 0: print(f'T = {self.T:.8f}, Conflicts = {current.conflicts():d}')\n",
    "            elif verbose == 1: print(current)\n",
    "            elif verbose == 2: current.plot(show_conflicts=False)\n",
    "            elif verbose == 3: current.plot(show_conflicts=True)\n",
    "            \n",
    "            self.history.append(current)\n",
    "\n",
    "            if self.T < tol or current.conflicts() == 0:\n",
    "                return current\n",
    "\n",
    "            neighbor = current.random_neighbor()\n",
    "            delta_E = current.conflicts() - neighbor.conflicts()\n",
    "            if delta_E >= 0: \n",
    "                current = neighbor\n",
    "            elif random.random() < math.exp(delta_E / self.T):\n",
    "                current = neighbor\n",
    "\n",
    "            self.T = alpha * self.T\n",
    "\n",
    "        return current\n",
    "    \n",
    "    def __call__(self, state, T0=10, alpha=0.99, tol=1e-8, verbose=0):\n",
    "        return self.search(state, T0, alpha, tol, verbose)\n",
    "    \n",
    "\n",
    "    def plot_history(self):\n",
    "        plt.figure(figsize=(12, 4))\n",
    "\n",
    "        conflicts = [state.conflicts() for state in self.history]\n",
    "        plt.plot(range(len(conflicts)), conflicts)\n",
    "        plt.xlabel('Iteration')\n",
    "        plt.ylabel('Conflicts')\n",
    "        plt.show()"
   ],
   "outputs": [],
   "metadata": {}
  },
  {
   "cell_type": "code",
   "execution_count": 7,
   "source": [
    "initial_state = NQueensState.random_state(100)\n",
    "\n",
    "sa = SimulatedAnnealing()\n",
    "t, solution = timed(sa, state=initial_state, T0=10, alpha=.999, verbose=0)\n",
    "print(f'\\n\\n<Solution with {solution.conflicts()} conflicts found in {t:.2f} secs.>\\n {solution}')"
   ],
   "outputs": [
    {
     "output_type": "stream",
     "name": "stdout",
     "text": [
      "T = 0.00000001, Conflicts = 3\n",
      "\n",
      "\n",
      "<Solution with 3 conflicts found in 34.22 secs.>\n",
      " [1, 92, 71, 35, 59, 72, 24, 55, 29, 37, 8, 57, 7, 46, 61, 79, 67, 34, 83, 45, 2, 5, 80, 82, 99, 87, 65, 31, 100, 28, 26, 73, 76, 53, 19, 49, 33, 89, 9, 93, 32, 51, 48, 68, 66, 4, 21, 97, 91, 17, 11, 23, 29, 27, 81, 15, 75, 70, 95, 6, 18, 54, 56, 94, 18, 14, 90, 78, 30, 47, 39, 16, 25, 12, 60, 98, 85, 44, 86, 69, 96, 36, 38, 20, 63, 3, 52, 50, 77, 10, 40, 22, 62, 13, 42, 47, 84, 43, 74, 64] <3>\n"
     ]
    }
   ],
   "metadata": {
    "scrolled": true
   }
  },
  {
   "cell_type": "code",
   "execution_count": 8,
   "source": [
    "solution.plot(width=1024, height=1024, show_conflicts=True)"
   ],
   "outputs": [
    {
     "output_type": "display_data",
     "data": {
      "image/png": "[encoded data removed]",
      "text/plain": [
       "<Figure size 432x432 with 1 Axes>"
      ]
     },
     "metadata": {
      "needs_background": "light"
     }
    }
   ],
   "metadata": {}
  },
  {
   "cell_type": "code",
   "execution_count": 9,
   "source": [
    "sa.plot_history()"
   ],
   "outputs": [
    {
     "output_type": "display_data",
     "data": {
      "image/png": "[encoded data removed]",
      "text/plain": [
       "<Figure size 864x288 with 1 Axes>"
      ]
     },
     "metadata": {
      "needs_background": "light"
     }
    }
   ],
   "metadata": {}
  },
  {
   "cell_type": "code",
   "execution_count": 10,
   "source": [
    "def update_plot(i, show_conflicts):\n",
    "    state = sa.history[i - 1]\n",
    "    state.plot(width=1024, height=1024, show_conflicts=show_conflicts)"
   ],
   "outputs": [],
   "metadata": {}
  },
  {
   "cell_type": "code",
   "execution_count": 11,
   "source": [
    "i = widgets.IntSlider(value=1, min=1, max=len(sa.history), description='i:')\n",
    "show_conflicts = widgets.Checkbox(value=True, description='Show conflicts')\n",
    "\n",
    "widgets.interact(update_plot, i=i, show_conflicts=show_conflicts);"
   ],
   "outputs": [
    {
     "output_type": "display_data",
     "data": {
      "application/vnd.jupyter.widget-view+json": {
       "version_major": 2,
       "version_minor": 0,
       "model_id": "132e24d056884c0887cfb0361b45ea83"
      },
      "text/plain": [
       "interactive(children=(IntSlider(value=1, description='i:', max=20714, min=1), Checkbox(value=True, description…"
      ]
     },
     "metadata": {}
    }
   ],
   "metadata": {}
  },
  {
   "cell_type": "markdown",
   "source": [
    "## Permutation"
   ],
   "metadata": {
    "tags": []
   }
  },
  {
   "cell_type": "code",
   "execution_count": 12,
   "source": [
    "initial_state = NQueensStatePermutation.random_state(100)\n",
    "\n",
    "sa = SimulatedAnnealing()\n",
    "t, solution = timed(sa, state=initial_state, T0=10, alpha=.999, verbose=0)\n",
    "print(f'\\n\\n<Solution with {solution.conflicts()} conflicts found in {t:.2f} secs.>\\n {solution}')"
   ],
   "outputs": [
    {
     "output_type": "stream",
     "name": "stdout",
     "text": [
      "T = 0.00008808, Conflicts = 1\n"
     ]
    },
    {
     "output_type": "stream",
     "name": "stderr",
     "text": [
      "IOPub message rate exceeded.\n",
      "The notebook server will temporarily stop sending output\n",
      "to the client in order to avoid crashing it.\n",
      "To change this limit, set the config variable\n",
      "`--NotebookApp.iopub_msg_rate_limit`.\n",
      "\n",
      "Current values:\n",
      "NotebookApp.iopub_msg_rate_limit=1000.0 (msgs/sec)\n",
      "NotebookApp.rate_limit_window=3.0 (secs)\n",
      "\n"
     ]
    }
   ],
   "metadata": {}
  },
  {
   "cell_type": "code",
   "execution_count": 13,
   "source": [
    "solution.plot(width=1024, height=1024, show_conflicts=True)"
   ],
   "outputs": [
    {
     "output_type": "display_data",
     "data": {
      "image/png": "[encoded data removed]",
      "text/plain": [
       "<Figure size 432x432 with 1 Axes>"
      ]
     },
     "metadata": {
      "needs_background": "light"
     }
    }
   ],
   "metadata": {}
  },
  {
   "cell_type": "code",
   "execution_count": 14,
   "source": [
    "sa.plot_history()"
   ],
   "outputs": [
    {
     "output_type": "display_data",
     "data": {
      "image/png": "[encoded data removed]",
      "text/plain": [
       "<Figure size 864x288 with 1 Axes>"
      ]
     },
     "metadata": {
      "needs_background": "light"
     }
    }
   ],
   "metadata": {}
  },
  {
   "cell_type": "code",
   "execution_count": 15,
   "source": [
    "i = widgets.IntSlider(value=1, min=1, max=len(sa.history), description='i:')\n",
    "show_conflicts = widgets.Checkbox(value=True, description='Show conflicts')\n",
    "\n",
    "widgets.interact(update_plot, i=i, show_conflicts=show_conflicts);"
   ],
   "outputs": [
    {
     "output_type": "display_data",
     "data": {
      "application/vnd.jupyter.widget-view+json": {
       "version_major": 2,
       "version_minor": 0,
       "model_id": "fdfacde5fdbc41de8db832ce4232e806"
      },
      "text/plain": [
       "interactive(children=(IntSlider(value=1, description='i:', max=11753, min=1), Checkbox(value=True, description…"
      ]
     },
     "metadata": {}
    }
   ],
   "metadata": {}
  },
  {
   "cell_type": "markdown",
   "source": [
    "## Animation"
   ],
   "metadata": {}
  },
  {
   "cell_type": "code",
   "execution_count": 17,
   "source": [
    "N = 10\n",
    "initial_state = NQueensState.random_state(N)\n",
    "\n",
    "sa = SimulatedAnnealing()\n",
    "t, solution = timed(sa, state=initial_state, T0=10, alpha=.98, verbose=0)\n",
    "print(f'\\n\\n<Solution with {solution.conflicts()} conflicts found in {t:.2f} secs.>\\n {solution}')"
   ],
   "outputs": [
    {
     "output_type": "stream",
     "name": "stdout",
     "text": [
      "T = 0.00000004, Conflicts = 0\n",
      "\n",
      "\n",
      "<Solution with 0 conflicts found in 0.65 secs.>\n",
      " [4, 7, 3, 6, 2, 10, 1, 9, 5, 8] <0>\n"
     ]
    }
   ],
   "metadata": {}
  },
  {
   "cell_type": "code",
   "execution_count": 18,
   "source": [
    "len(sa.history)"
   ],
   "outputs": [
    {
     "output_type": "execute_result",
     "data": {
      "text/plain": [
       "955"
      ]
     },
     "metadata": {},
     "execution_count": 18
    }
   ],
   "metadata": {}
  },
  {
   "cell_type": "code",
   "execution_count": 19,
   "source": [
    "history = summarize_history(sa.history)\n",
    "print(len(history))"
   ],
   "outputs": [
    {
     "output_type": "stream",
     "name": "stdout",
     "text": [
      "146\n"
     ]
    }
   ],
   "metadata": {}
  },
  {
   "cell_type": "code",
   "execution_count": 20,
   "source": [
    "anim = create_animation(history, figsize=(6, 6))\n",
    "anim.save(f'imgs/{N}-queens-sa.gif', writer='imagemagick')\n",
    "clear_output()"
   ],
   "outputs": [],
   "metadata": {}
  },
  {
   "cell_type": "markdown",
   "source": [
    "<img src=\"imgs/10-queens-sa.gif\" width=\"50%\">"
   ],
   "metadata": {}
  },
  {
   "cell_type": "code",
   "execution_count": 21,
   "source": [
    "anim = create_animation(history, figsize=(12, 4), plot_objective=True)\n",
    "anim.save(f'imgs/{N}-queens-sa-with-objective.gif', writer='imagemagick')\n",
    "clear_output()"
   ],
   "outputs": [],
   "metadata": {}
  },
  {
   "cell_type": "markdown",
   "source": [
    "<img src=\"imgs/10-queens-sa-with-objective.gif\">"
   ],
   "metadata": {}
  }
 ],
 "metadata": {
  "kernelspec": {
   "name": "python3",
   "display_name": "Python 3.9.6 64-bit ('venv': venv)"
  },
  "language_info": {
   "codemirror_mode": {
    "name": "ipython",
    "version": 3
   },
   "file_extension": ".py",
   "mimetype": "text/x-python",
   "name": "python",
   "nbconvert_exporter": "python",
   "pygments_lexer": "ipython3",
   "version": "3.9.6"
  },
  "interpreter": {
   "hash": "db4280cfac26d1f17ba08bcc8b51b906ec3585d94092157597b7da58b570ab73"
  }
 },
 "nbformat": 4,
 "nbformat_minor": 5
}