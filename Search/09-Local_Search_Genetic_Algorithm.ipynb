{
 "cells": [
  {
   "cell_type": "markdown",
   "source": [
    "<div class='alert alert-success'>\n",
    "    <h1 align=\"center\">Local Search Algorithms: Genetic Algorithm for N-Queens</h1> \n",
    "    <h3 align=\"center\">Artificial Intelligece Course (Fall 2021)</h3>\n",
    "    <h5 align=\"center\">Seyed Naser RAZAVI <a href='http://www.snrazavi.ir/ai-slides/'>(website)</a></h5>\n",
    "</div>"
   ],
   "metadata": {}
  },
  {
   "cell_type": "code",
   "execution_count": 1,
   "source": [
    "import tqdm\n",
    "import random\n",
    "import matplotlib.pyplot as plt\n",
    "from IPython.display import clear_output\n",
    "\n",
    "from nqueens import NQueensStatePermutation as NQueensState\n",
    "from nqueens import create_animation\n",
    "\n",
    "# for animation\n",
    "from matplotlib import rc\n",
    "rc('animation', html='html5')\n",
    "\n",
    "plt.rcParams['figure.figsize'] = (6, 6)"
   ],
   "outputs": [],
   "metadata": {}
  },
  {
   "cell_type": "markdown",
   "source": [
    "## N-Queens Problem\n",
    "- **Goal**: Place N queens on a N-by-N chess board so that no two queens can attack each other.\n",
    "- Thus a solution requires that no two queens share the same row, column or diagonal.\n",
    "\n",
    "<p align=\"center\">\n",
    "    <img src=\"imgs/Four-Queens-Local-Search.png\" width=\"80%\">\n",
    "</p>\n",
    "<h6 align=\"center\">4-Queens problem</h6>"
   ],
   "metadata": {}
  },
  {
   "cell_type": "markdown",
   "source": [
    "### Problem formulation: First formulation\n",
    "- **States**: each column contains only one queen.\n",
    "- **Actions**: move a queen to another row in its column.\n",
    "- **State Space Size**: $N^N$\n"
   ],
   "metadata": {}
  },
  {
   "cell_type": "markdown",
   "source": [
    "### Problem formulation: Second formulation (Permuatation)\n",
    "- **States**: each column and each row contains only one queen.\n",
    "- **Actions**: move a queen to another row in its column which is not occupied.\n",
    "- **State Space Size**: $N!$"
   ],
   "metadata": {}
  },
  {
   "cell_type": "code",
   "execution_count": 2,
   "source": [
    "state = NQueensState.random_state(N=8)\n",
    "print(state)"
   ],
   "outputs": [
    {
     "output_type": "stream",
     "name": "stdout",
     "text": [
      "[7, 2, 5, 3, 1, 8, 4, 6] <3>\n"
     ]
    }
   ],
   "metadata": {}
  },
  {
   "cell_type": "code",
   "execution_count": 3,
   "source": [
    "state.plot(show_conflicts=True)"
   ],
   "outputs": [
    {
     "output_type": "display_data",
     "data": {
      "image/png": "[encoded data removed]",
      "text/plain": [
       "<Figure size 432x432 with 1 Axes>"
      ]
     },
     "metadata": {
      "needs_background": "light"
     }
    }
   ],
   "metadata": {}
  },
  {
   "cell_type": "code",
   "execution_count": 4,
   "source": [
    "best_neighbor = state.best_neighbor()\n",
    "best_neighbor.plot(show_conflicts=True)"
   ],
   "outputs": [
    {
     "output_type": "display_data",
     "data": {
      "image/png": "[encoded data removed]",
      "text/plain": [
       "<Figure size 432x432 with 1 Axes>"
      ]
     },
     "metadata": {
      "needs_background": "light"
     }
    }
   ],
   "metadata": {}
  },
  {
   "cell_type": "code",
   "execution_count": 5,
   "source": [
    "best_neighbor"
   ],
   "outputs": [
    {
     "output_type": "execute_result",
     "data": {
      "text/plain": [
       "NQueensStatePermutation(queens=[8, 2, 5, 3, 1, 7, 4, 6])"
      ]
     },
     "metadata": {},
     "execution_count": 5
    }
   ],
   "metadata": {}
  },
  {
   "cell_type": "markdown",
   "source": [
    "## Genetic Algorithm\n",
    "<img src=\"imgs/genetic_algorithm.png\" width=\"80%\">"
   ],
   "metadata": {}
  },
  {
   "cell_type": "markdown",
   "source": [
    "### Selection, Crossover, Mutation\n",
    "<img src='imgs/GA_cycle.png' width='100%'>"
   ],
   "metadata": {}
  },
  {
   "cell_type": "code",
   "execution_count": 6,
   "source": [
    "class GeneticAlgorithm:\n",
    "    \n",
    "    def __init__(self):\n",
    "        self.population = []    \n",
    "        self.history, self.bests, self.means = [], [], []\n",
    "\n",
    "    def tournament_selection(self, k=2):\n",
    "        samples = [random.choice(self.population) for _ in range(k)]\n",
    "        return min(samples, key=lambda x: x.conflicts())\n",
    "\n",
    "    @staticmethod\n",
    "    def mutate(chromosome):\n",
    "        \"\"\" Swap mutation which randomly swaps two genes.\"\"\"\n",
    "        N = chromosome.N\n",
    "        offspring = NQueensState(queens=chromosome.queens)\n",
    "        i = random.randint(0, N - 2)\n",
    "        j = random.randint(i + 1, N - 1)\n",
    "\n",
    "        p = random.random()\n",
    "        if p < 0.8:\n",
    "            offspring.queens[i], offspring.queens[j] = offspring.queens[j], offspring.queens[i]\n",
    "        elif p < 0.9:\n",
    "            offspring.queens[i: j + 1] = reversed(offspring.queens[i: j + 1])\n",
    "        else:\n",
    "            random.shuffle(offspring.queens[i: j + 1])\n",
    "\n",
    "        offspring.conflicts()\n",
    "        return offspring\n",
    "\n",
    "    @staticmethod\n",
    "    def crossover(parent1, parent2):\n",
    "        \"\"\"Order 1 crossover.\"\"\"\n",
    "\n",
    "        def next(idx, N):\n",
    "            return (idx + 1) % N\n",
    "\n",
    "        N = parent1.N\n",
    "        child1 = NQueensState(queens=parent1.queens)\n",
    "        child2 = NQueensState(queens=parent2.queens)\n",
    "\n",
    "        i = random.randint(0,   N - 2)\n",
    "        j = random.randint(i+1, N - 1)\n",
    "\n",
    "        # create child1\n",
    "        k1 = k2 = j\n",
    "        count = j - i\n",
    "        while count < N:\n",
    "            if parent2.queens[k1] not in child1.queens[i:j]:\n",
    "                child1.queens[k2] = parent2.queens[k1]\n",
    "                k1 = next(k1, N)\n",
    "                k2 = next(k2, N)\n",
    "                count += 1\n",
    "            else:\n",
    "                k1 = next(k1, N)\n",
    "\n",
    "        child1.conflicts()\n",
    "\n",
    "        # create child2\n",
    "        k1 = k2 = j\n",
    "        count = j - i\n",
    "        while count < N:\n",
    "            if parent1.queens[k1] not in child2.queens[i:j]:\n",
    "                child2.queens[k2] = parent1.queens[k1]\n",
    "                k1 = next(k1, N)\n",
    "                k2 = next(k2, N)\n",
    "                count += 1\n",
    "            else:\n",
    "                k1 = next(k1, N)\n",
    "\n",
    "        child2.conflicts()\n",
    "\n",
    "        return child1, child2\n",
    "    \n",
    "    \n",
    "    def search(self, N=100, pop_size=300, max_generations=200, k=None, pc=0.9, pm=0.8):\n",
    "        if k is None:\n",
    "            k = max(2, int(0.2 * pop_size))\n",
    "\n",
    "        # create random initial population\n",
    "        self.population = [NQueensState.random_state(N=N) for _ in range(pop_size)]\n",
    "\n",
    "        # report statistics\n",
    "        best = min(self.population, key=lambda x: x.conflicts())\n",
    "        mean = sum([x.conflicts() for x in self.population]) / pop_size\n",
    "        self.history.append(best)\n",
    "        self.bests.append(best.conflicts())\n",
    "        self.means.append(mean)\n",
    "\n",
    "        pbar = tqdm.tqdm(range(1, max_generations + 1), \n",
    "                                  desc='Generation 0', \n",
    "                                  total=max_generations)\n",
    "        for i in pbar:\n",
    "            if best.conflicts() == 0: \n",
    "                break\n",
    "\n",
    "            new_population = []\n",
    "\n",
    "            for j in range(pop_size // 2):\n",
    "                # Select parents\n",
    "                parent1 = self.tournament_selection(k)\n",
    "                parent2 = self.tournament_selection(k)\n",
    "\n",
    "                # crossover\n",
    "                if random.random() < pc:\n",
    "                    child1, child2 = self.crossover(parent1, parent2)\n",
    "                else:\n",
    "                    child1 = NQueensState(queens=parent1.queens)\n",
    "                    child2 = NQueensState(queens=parent2.queens)\n",
    "\n",
    "                # mutation\n",
    "                if random.random() < pm:\n",
    "                    child1 = self.mutate(child1)\n",
    "                if random.random() < pm:\n",
    "                    child2 = self.mutate(child2)\n",
    "\n",
    "                new_population += [child1, child2]\n",
    "\n",
    "            self.population = new_population\n",
    "\n",
    "            # report statistics\n",
    "            best = min(self.population, key=lambda x: x.conflicts())\n",
    "            mean = sum([x.conflicts() for x in self.population]) / pop_size\n",
    "            pbar.set_description(f'Generation {i:3d} | best {best.conflicts():3d} | mean {mean:.2f}')\n",
    "\n",
    "            self.history.append(best)\n",
    "            self.bests.append(best.conflicts())\n",
    "            self.means.append(mean)\n",
    "\n",
    "            # Stop if optimal solution found\n",
    "            if best.conflicts == 0: \n",
    "                break\n",
    "\n",
    "        return best\n",
    "     \n",
    "    def __call__(self, N=100, pop_size=300, max_generations=200, k=None, pc=0.9, pm=0.8):\n",
    "        return self.search(N, pop_size, max_generations, k, pc, pm)\n",
    "    \n",
    "    def plot_fitness(self):\n",
    "        plt.figure(figsize=(12, 6))\n",
    "        plt.plot(self.means, label='Average')\n",
    "        plt.plot(self.bests, label='Best')\n",
    "        plt.xlabel('Generation')\n",
    "        plt.ylabel('Fitness')\n",
    "        plt.legend(loc='best')\n",
    "        plt.show()"
   ],
   "outputs": [],
   "metadata": {}
  },
  {
   "cell_type": "code",
   "execution_count": 7,
   "source": [
    "# GA parameters\n",
    "N = 30\n",
    "pop_size = 100\n",
    "max_generations = 500\n",
    "\n",
    "p_crossover = 0.9\n",
    "p_mutation = 0.8\n",
    "\n",
    "# run GA\n",
    "ga = GeneticAlgorithm()\n",
    "\n",
    "best_solution = ga(\n",
    "    N=N, \n",
    "    pop_size=pop_size, \n",
    "    max_generations=max_generations,\n",
    "    pc=p_crossover,\n",
    "    pm=p_mutation\n",
    ")\n",
    "\n",
    "# show results\n",
    "print(f\"Best Solution Found with <{best_solution.conflicts()}> conflicts:\\n{best_solution}\")"
   ],
   "outputs": [
    {
     "output_type": "stream",
     "name": "stderr",
     "text": [
      "Generation  31 | best   0 | mean 3.32:   6%|▌         | 31/500 [00:00<00:05, 78.29it/s]"
     ]
    },
    {
     "output_type": "stream",
     "name": "stdout",
     "text": [
      "Best Solution Found with <0> conflicts:\n",
      "[6, 9, 3, 15, 24, 4, 17, 28, 26, 23, 20, 30, 25, 7, 11, 1, 8, 12, 21, 19, 2, 10, 27, 13, 22, 18, 14, 29, 5, 16] <0>\n"
     ]
    },
    {
     "output_type": "stream",
     "name": "stderr",
     "text": [
      "\n"
     ]
    }
   ],
   "metadata": {}
  },
  {
   "cell_type": "code",
   "execution_count": 8,
   "source": [
    "best_solution.plot(show_conflicts=True)"
   ],
   "outputs": [
    {
     "output_type": "display_data",
     "data": {
      "image/png": "[encoded data removed]",
      "text/plain": [
       "<Figure size 432x432 with 1 Axes>"
      ]
     },
     "metadata": {
      "needs_background": "light"
     }
    }
   ],
   "metadata": {}
  },
  {
   "cell_type": "code",
   "execution_count": 9,
   "source": [
    "ga.plot_fitness()"
   ],
   "outputs": [
    {
     "output_type": "display_data",
     "data": {
      "image/png": "[encoded data removed]",
      "text/plain": [
       "<Figure size 864x432 with 1 Axes>"
      ]
     },
     "metadata": {
      "needs_background": "light"
     }
    }
   ],
   "metadata": {}
  },
  {
   "cell_type": "markdown",
   "source": [
    "## Animation"
   ],
   "metadata": {}
  },
  {
   "cell_type": "code",
   "execution_count": 10,
   "source": [
    "anim = create_animation(ga.history)\n",
    "anim.save(f'imgs/{N}-queens-ga.gif', writer='imagemagick')\n",
    "clear_output()"
   ],
   "outputs": [],
   "metadata": {}
  },
  {
   "cell_type": "markdown",
   "source": [
    "<img src=\"imgs/30-queens-ga.gif\" width=\"50%\">"
   ],
   "metadata": {}
  },
  {
   "cell_type": "code",
   "execution_count": 11,
   "source": [
    "anim = create_animation(ga.history, plot_objective=True)\n",
    "anim.save(f'imgs/{N}-queens-ga-with-objective.gif', writer='imagemagick')\n",
    "clear_output()"
   ],
   "outputs": [],
   "metadata": {}
  },
  {
   "cell_type": "markdown",
   "source": [
    "<img src=\"imgs/30-queens-ga-with-objective.gif\">"
   ],
   "metadata": {}
  }
 ],
 "metadata": {
  "kernelspec": {
   "name": "python3",
   "display_name": "Python 3.9.6 64-bit ('venv': venv)"
  },
  "language_info": {
   "codemirror_mode": {
    "name": "ipython",
    "version": 3
   },
   "file_extension": ".py",
   "mimetype": "text/x-python",
   "name": "python",
   "nbconvert_exporter": "python",
   "pygments_lexer": "ipython3",
   "version": "3.9.6"
  },
  "interpreter": {
   "hash": "db4280cfac26d1f17ba08bcc8b51b906ec3585d94092157597b7da58b570ab73"
  }
 },
 "nbformat": 4,
 "nbformat_minor": 5
}