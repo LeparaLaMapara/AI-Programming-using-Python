{
 "cells": [
  {
   "cell_type": "markdown",
   "id": "158a7e51",
   "metadata": {},
   "source": [
    "<div class='alert alert-success'>\n",
    "    <h1 align=\"center\">Local Search Algorithms: N-Queens Problem</h1> \n",
    "    <h3 align=\"center\">Artificial Intelligece Course (Fall 2021)</h3>\n",
    "    <h5 align=\"center\">Seyed Naser RAZAVI <a href='http://www.snrazavi.ir/ai-slides/'>(website)</a></h5>\n",
    "</div>"
   ]
  },
  {
   "cell_type": "code",
   "execution_count": 1,
   "id": "dc8720fd-6d2b-4f9a-b818-423ca6b0b74e",
   "metadata": {},
   "outputs": [],
   "source": [
    "import random\n",
    "import matplotlib.pyplot as plt\n",
    "\n",
    "import ipywidgets as widgets\n",
    "\n",
    "plt.rcParams['figure.figsize'] = (6, 6)"
   ]
  },
  {
   "cell_type": "markdown",
   "id": "d9dfb054-0935-445c-93c3-182787e69c41",
   "metadata": {},
   "source": [
    "## N-Queens Problem\n",
    "- **Goal**: Place N queens on a N-by-N chess board so that no two queens can attack each other.\n",
    "- Thus a solution requires that no two queens share the same row, column or diagonal.\n",
    "\n",
    "<p align=\"center\">\n",
    "    <img src=\"imgs/Four-Queens-Local-Search.png\" width=\"70%\">\n",
    "</p>\n",
    "<h6 align=\"center\">4-Queens problem</h6>![image.png](attachment:5cd8d9db-541a-4aa6-81fa-21e9a0730da8.png)"
   ]
  },
  {
   "cell_type": "markdown",
   "id": "f7f405ec-9ddf-4fe6-b9c2-640675b37426",
   "metadata": {},
   "source": [
    "### Problem formulation: First formulation\n",
    "- **States**: each column contains only one queen.\n",
    "- **Actions**: move a queen to another row in its column.\n",
    "- **State Space Size**: $N^N$\n"
   ]
  },
  {
   "cell_type": "markdown",
   "id": "9921d22e-f40f-4c40-9620-7ec376c70b40",
   "metadata": {},
   "source": [
    "### Problem formulation: Second formulation (Permuatation)\n",
    "- **States**: each column and each row contains only one queen.\n",
    "- **Actions**: move a queen to another row in its column which is not occupied.\n",
    "- **State Space Size**: $N!$"
   ]
  },
  {
   "cell_type": "markdown",
   "id": "98659ec0-c626-4029-abad-863faea64f26",
   "metadata": {},
   "source": [
    "### Implementing N-Queens states based on second formulation"
   ]
  },
  {
   "cell_type": "code",
   "execution_count": 2,
   "id": "881d3e2c-3324-4157-bfce-adbaf98e3898",
   "metadata": {},
   "outputs": [],
   "source": [
    "class NQueensState:\n",
    "    '''N-Queens state based on permutation formulation'''\n",
    "    \n",
    "    def __init__(self, queens=None, N=8):\n",
    "        ''' Constructor '''\n",
    "\n",
    "        if queens:\n",
    "            self.N = len(queens)\n",
    "            self.queens = queens.copy()\n",
    "        else:\n",
    "            self.N = N\n",
    "            self.queens = list(range(1, N + 1))\n",
    "\n",
    "        self.num_conflicts = None    \n",
    "        \n",
    "    def __eq__(self, other):\n",
    "        if self is other: return True\n",
    "        if other is None: return False\n",
    "        if not isinstance(other, NQueensState): return False\n",
    "    \n",
    "        return self.conflicts() == other.conflicts()\n",
    "    \n",
    "    def __ge__(self, other):\n",
    "        if self is other: return True\n",
    "        if other is None: return False\n",
    "        if not isinstance(other, NQueensState): return False\n",
    "    \n",
    "        return self.conflicts() >= other.conflicts()        \n",
    "        \n",
    "    def conflicts(self):\n",
    "        ''' Computes number of pairs og queens which are on the same diagonal'''\n",
    "\n",
    "        if self.num_conflicts is None:\n",
    "            self.num_conflicts = sum([abs(self.queens[j] - self.queens[i]) == j - i\n",
    "                                      for i in range(self.N - 1)\n",
    "                                      for j in range(i + 1, self.N)])\n",
    "\n",
    "        return self.num_conflicts\n",
    "                            \n",
    "    def neighbors(self):\n",
    "        ''' Create all successors by considering every pair and swaping their position'''\n",
    "\n",
    "        N = self.N\n",
    "        \n",
    "        for i in range(N - 1):\n",
    "            for j in range(i + 1, N):\n",
    "                neighbor = NQueensState(queens=self.queens)\n",
    "                neighbor.queens[i], neighbor.queens[j] = neighbor.queens[j], neighbor.queens[i]\n",
    "                yield neighbor\n",
    "    \n",
    "    def best_neighbor(self):\n",
    "        ''' find a neighbor with minimum number of conflicts'''\n",
    "\n",
    "        min_conflicts = self.N * (self.N - 1) // 2\n",
    "        best = None\n",
    "        for neighbor in self.neighbors():\n",
    "            if neighbor.conflicts() < min_conflicts:\n",
    "                min_conflicts, best = neighbor.conflicts(), neighbor\n",
    "        return best\n",
    "\n",
    "        #         return min(self.neighbors(), key=lambda x: x.conflicts())\n",
    "    \n",
    "    def random_neighbor(self):\n",
    "        ''' find a random neighbor by swaping two randomly selected queens'''\n",
    "\n",
    "        i = random.randint(0, self.N - 2)\n",
    "        j = random.randint(i + 1, self.N - 1)\n",
    "        neighbor = NQueensState(queens=self.queens)\n",
    "        neighbor.queens[i], neighbor.queens[j] = neighbor.queens[j], neighbor.queens[i]\n",
    "        return neighbor\n",
    "    \n",
    "    @staticmethod\n",
    "    def random_state(N=8):\n",
    "        queens = list(range(1, N + 1))\n",
    "        random.shuffle(queens)\n",
    "        return NQueensState(queens=queens)\n",
    "\n",
    "    def plot(self, width=512, height=512, show_conflicts=False, fc='darkslateblue'):\n",
    "        N = self.N\n",
    "\n",
    "        w, h = width // N, height // N\n",
    "\n",
    "        border = plt.Rectangle((0, 0), N * w, N * h, ec=fc, fc='w', alpha=0.35)\n",
    "        plt.gca().add_patch(border)\n",
    "\n",
    "        # draw chess board\n",
    "        for i in range(N):\n",
    "            for j in range(N):\n",
    "                alpha = 0.35 if (i + j) % 2 == 0 else 0.1\n",
    "                cell = plt.Rectangle((i * w, j * h), w, h, fc=fc, alpha=alpha)\n",
    "                plt.gca().add_patch(cell)\n",
    "\n",
    "                    \n",
    "        \n",
    "        # show conflicts\n",
    "        if show_conflicts:\n",
    "            for i in range(N - 1):\n",
    "                row_i = self.queens[i]\n",
    "                for j in range(i + 1, N):\n",
    "                    row_j = self.queens[j]\n",
    "                    if row_i == row_j or abs(row_i - row_j) == j - i:\n",
    "                        x1, x2 = i * w + w // 2, j * w + w // 2\n",
    "                        y1, y2 = (row_i - 1) * h + h // 2, (row_j - 1) * h + h // 2\n",
    "                        line = plt.Line2D((x1, x2), (y1, y2), lw=3, ls='-', color='orchid', alpha=0.6)\n",
    "                        plt.gca().add_line(line)\n",
    "\n",
    "        # place queens on chess board\n",
    "        for col, row in enumerate(self.queens):\n",
    "            c = 'k' if (col + row) % 2 == 0 else 'w'\n",
    "            x = col * w + w // 2\n",
    "            y = (row - 1) * h + h // 2\n",
    "            fs = w // 2\n",
    "            plt.text(x, y, '♛', color='k', fontsize=fs, ha='center', va='center')\n",
    "\n",
    "        plt.axis('square')\n",
    "        plt.axis('off')\n",
    "        plt.title(\"Conflicts = {}\".format(self.conflicts()), fontsize=18)\n",
    "        plt.show()    \n",
    "        \n",
    "    def __str__(self):\n",
    "        return f'{self.queens} <{self.conflicts()}>'\n",
    "    \n",
    "    def __repr__(self):\n",
    "        return f'NQueensState(queens={self.queens})'"
   ]
  },
  {
   "cell_type": "code",
   "execution_count": 3,
   "id": "e7c7cb3b-de35-4598-8b81-1512d1a81743",
   "metadata": {},
   "outputs": [
    {
     "name": "stdout",
     "output_type": "stream",
     "text": [
      "[4, 7, 5, 8, 3, 1, 2, 6] <4>\n"
     ]
    }
   ],
   "source": [
    "state = NQueensState.random_state()\n",
    "print(state)"
   ]
  },
  {
   "cell_type": "code",
   "execution_count": 4,
   "id": "57750ac8-b854-46b0-a17e-e700d8ccc0ab",
   "metadata": {},
   "outputs": [
    {
     "name": "stdout",
     "output_type": "stream",
     "text": [
      "[4, 5, 2, 1, 6, 3, 7, 8] <6>\n"
     ]
    }
   ],
   "source": [
    "state = NQueensState.random_state(N=8)\n",
    "print(state)"
   ]
  },
  {
   "cell_type": "code",
   "execution_count": 5,
   "id": "1ce671d9-e6f2-4957-af65-eddd17a51b03",
   "metadata": {},
   "outputs": [
    {
     "data": {
      "image/png": "[encoded data removed]",
      "text/plain": [
       "<Figure size 432x432 with 1 Axes>"
      ]
     },
     "metadata": {
      "needs_background": "light"
     },
     "output_type": "display_data"
    }
   ],
   "source": [
    "state.plot(show_conflicts=True)"
   ]
  },
  {
   "cell_type": "code",
   "execution_count": 6,
   "id": "295c1e6f-ce60-475f-8939-d24e96ac44bc",
   "metadata": {},
   "outputs": [
    {
     "data": {
      "image/png": "[encoded data removed]",
      "text/plain": [
       "<Figure size 432x432 with 1 Axes>"
      ]
     },
     "metadata": {
      "needs_background": "light"
     },
     "output_type": "display_data"
    }
   ],
   "source": [
    "best_neighbor = state.best_neighbor()\n",
    "best_neighbor.plot(show_conflicts=True)"
   ]
  },
  {
   "cell_type": "code",
   "execution_count": 7,
   "id": "e7931b22-663c-47b8-baca-1ea12e32d4d6",
   "metadata": {},
   "outputs": [
    {
     "data": {
      "text/plain": [
       "NQueensState(queens=[3, 5, 2, 1, 6, 4, 7, 8])"
      ]
     },
     "execution_count": 7,
     "metadata": {},
     "output_type": "execute_result"
    }
   ],
   "source": [
    "best_neighbor"
   ]
  }
 ],
 "metadata": {
  "kernelspec": {
   "display_name": "Python 3 (ipykernel)",
   "language": "python",
   "name": "python3"
  },
  "language_info": {
   "codemirror_mode": {
    "name": "ipython",
    "version": 3
   },
   "file_extension": ".py",
   "mimetype": "text/x-python",
   "name": "python",
   "nbconvert_exporter": "python",
   "pygments_lexer": "ipython3",
   "version": "3.9.6"
  }
 },
 "nbformat": 4,
 "nbformat_minor": 5
}
