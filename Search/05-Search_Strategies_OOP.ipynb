{
 "cells": [
  {
   "cell_type": "markdown",
   "metadata": {},
   "source": [
    "<div class='alert alert-success'>\n",
    "    <h1 align=\"center\">Search Algorithms: Uninformed Search Strategies</h1> \n",
    "    <h3 align=\"center\">Artificial Intelligece Course (Fall 2021)</h3>\n",
    "    <h5 align=\"center\">Seyed Naser RAZAVI <a href='http://www.snrazavi.ir/ai-slides/'>(website)</a></h5>\n",
    "</div>"
   ]
  },
  {
   "cell_type": "code",
   "execution_count": 1,
   "metadata": {
    "scrolled": true
   },
   "outputs": [],
   "source": [
    "%matplotlib inline\n",
    "%reload_ext autoreload\n",
    "%autoreload 2\n",
    "\n",
    "import matplotlib.pyplot as plt\n",
    "from collections import namedtuple\n",
    "\n",
    "from utils import *\n",
    "from npuzzle import NPuzzleState"
   ]
  },
  {
   "cell_type": "markdown",
   "metadata": {},
   "source": [
    "## Uninformed Search Strategies: OOP implementation\n",
    "\n",
    "In uniformed (blind) search strategies, we don't have any additional information other than the information provided in the problem formulation (states, actions, initial state and goal state(s)). \n",
    "\n",
    "Later you will see informed search strategis in which you have other information (heuristics) that during the search process guide you towards the goal state.\n",
    "\n",
    "- BFS (Breadth First Search)\n",
    "- UCS (Uniform Cost Search)\n",
    "- DFS (Depth First Search)\n",
    "- DLS (Depth Limitted Search)\n",
    "- IDS (Iterative Deepening Search)"
   ]
  },
  {
   "cell_type": "code",
   "execution_count": 2,
   "metadata": {},
   "outputs": [
    {
     "data": {
      "image/png": "[encoded data removed]",
      "text/plain": [
       "<Figure size 432x216 with 2 Axes>"
      ]
     },
     "metadata": {
      "needs_background": "light"
     },
     "output_type": "display_data"
    }
   ],
   "source": [
    "start_state_tiles = [\n",
    "    2, 8, 3, \n",
    "    1, 6, 4, \n",
    "    7, 0, 5]\n",
    "\n",
    "goal_state_tiles = [\n",
    "    1, 2, 3, \n",
    "    8, 0, 4,\n",
    "    7, 6, 5]\n",
    "\n",
    "# define start state and goal state\n",
    "start_state = NPuzzleState(tiles=start_state_tiles)\n",
    "goal_state = NPuzzleState(tiles=goal_state_tiles)\n",
    "\n",
    "# plot the start state and the goal state\n",
    "fig, axes = plt.subplots(1, 2, figsize=(6, 3))\n",
    "start_state.plot(axes[0], 'Start')\n",
    "goal_state.plot(axes[1], 'Goal')\n",
    "plt.show()"
   ]
  },
  {
   "cell_type": "markdown",
   "metadata": {},
   "source": [
    "### BFS\n",
    "- Frontier is a FIFO list (or queue) and is implemented in the `utils.py`."
   ]
  },
  {
   "cell_type": "code",
   "execution_count": 3,
   "metadata": {},
   "outputs": [],
   "source": [
    "Node = namedtuple('Node', 'state parent action cost')\n",
    "\n",
    "\n",
    "class BFS:\n",
    "    ''' Breadth-First Search strategy'''\n",
    "    \n",
    "    def __init__(self):\n",
    "        self.frontier = Queue()\n",
    "        self.reached = set()\n",
    "        self.num_generated = 0\n",
    "\n",
    "        \n",
    "    def search(self, start_state, goal_state):\n",
    "\n",
    "        node = Node(start_state, None, None, 0)\n",
    "\n",
    "        if start_state == goal_state:\n",
    "            return solution(node)\n",
    "\n",
    "        self.frontier.push(node)\n",
    "        self.reached.add(start_state)\n",
    "\n",
    "\n",
    "        while not self.frontier.is_empty():        \n",
    "            # select a candidate node\n",
    "            node = self.frontier.pop()\n",
    "\n",
    "            # expand\n",
    "            for successor, action, step_cost in node.state.successors():\n",
    "                self.num_generated += 1\n",
    "\n",
    "                if successor == goal_state:\n",
    "                    return self._solution(Node(successor, node, action, node.cost + step_cost))\n",
    "\n",
    "                if successor not in self.reached:\n",
    "                    self.reached.add(successor)\n",
    "                    self.frontier.push(Node(successor, node, action, node.cost + step_cost))\n",
    "\n",
    "        return None  # if no solution found\n",
    "    \n",
    "    @staticmethod\n",
    "    def _solution(node):\n",
    "        path = []\n",
    "        while node.parent is not None:\n",
    "            path = [(node.state, node.action)] + path\n",
    "            node = node.parent\n",
    "        return path"
   ]
  },
  {
   "cell_type": "code",
   "execution_count": 4,
   "metadata": {
    "scrolled": true
   },
   "outputs": [
    {
     "name": "stdout",
     "output_type": "stream",
     "text": [
      "Number of generated nodes: 70\n"
     ]
    },
    {
     "data": {
      "image/png": "[encoded data removed]",
      "text/plain": [
       "<Figure size 1296x216 with 6 Axes>"
      ]
     },
     "metadata": {
      "needs_background": "light"
     },
     "output_type": "display_data"
    }
   ],
   "source": [
    "bfs = BFS()\n",
    "solution_path = bfs.search(start_state, goal_state)\n",
    "\n",
    "print(f\"Number of generated nodes: {bfs.num_generated}\")\n",
    "show_solution(start_state, solution_path, ncols=6)"
   ]
  },
  {
   "cell_type": "markdown",
   "metadata": {},
   "source": [
    "### Using `__call__()`"
   ]
  },
  {
   "cell_type": "code",
   "execution_count": 5,
   "metadata": {},
   "outputs": [],
   "source": [
    "class BFS:\n",
    "    ''' Breadth-First Search strategy'''\n",
    "    \n",
    "    def __init__(self):\n",
    "        self.frontier = Queue()\n",
    "        self.reached = set()\n",
    "        self.num_generated = 0\n",
    "\n",
    "        \n",
    "    def search(self, start_state, goal_state):\n",
    "\n",
    "        node = Node(start_state, None, None, 0)\n",
    "\n",
    "        if start_state == goal_state:\n",
    "            return solution(node)\n",
    "\n",
    "        self.frontier.push(node)\n",
    "        self.reached.add(start_state)\n",
    "\n",
    "\n",
    "        while not self.frontier.is_empty():        \n",
    "            # select a candidate node\n",
    "            node = self.frontier.pop()\n",
    "\n",
    "            # expand\n",
    "            for successor, action, step_cost in node.state.successors():\n",
    "                self.num_generated += 1\n",
    "\n",
    "                if successor == goal_state:\n",
    "                    return self._solution(Node(successor, node, action, node.cost + step_cost))\n",
    "\n",
    "                if successor not in self.reached:\n",
    "                    self.reached.add(successor)\n",
    "                    self.frontier.push(Node(successor, node, action, node.cost + step_cost))\n",
    "\n",
    "        return None  # if no solution found\n",
    "    \n",
    "    def __call__(self, start_state, goal_state):\n",
    "        return self.search(start_state, goal_state)\n",
    "    \n",
    "    @staticmethod\n",
    "    def _solution(node):\n",
    "        path = []\n",
    "        while node.parent is not None:\n",
    "            path = [(node.state, node.action)] + path\n",
    "            node = node.parent\n",
    "        return path"
   ]
  },
  {
   "cell_type": "code",
   "execution_count": 6,
   "metadata": {},
   "outputs": [
    {
     "name": "stdout",
     "output_type": "stream",
     "text": [
      "Number of generated nodes: 70\n"
     ]
    },
    {
     "data": {
      "image/png": "[encoded data removed]",
      "text/plain": [
       "<Figure size 1296x216 with 6 Axes>"
      ]
     },
     "metadata": {
      "needs_background": "light"
     },
     "output_type": "display_data"
    }
   ],
   "source": [
    "bfs = BFS()\n",
    "solution_path = bfs(start_state, goal_state)\n",
    "\n",
    "print(f\"Number of generated nodes: {bfs.num_generated}\")\n",
    "show_solution(start_state, solution_path, ncols=6)"
   ]
  },
  {
   "cell_type": "markdown",
   "metadata": {},
   "source": [
    "## UCS\n",
    "- Frontier is a priority queue, in which nodes are sorted according to their path costs. \n",
    "- Again, the implementation of priority queue is given in the `utils.py`.\n",
    "\n",
    "<img src='imgs/Best_First.png' width='80%'>"
   ]
  },
  {
   "cell_type": "code",
   "execution_count": 7,
   "metadata": {},
   "outputs": [],
   "source": [
    "class UCS:\n",
    "    '''Uniform Cost Search'''\n",
    "    \n",
    "    def __init__(self):\n",
    "        self.frontier = PriorityQueue()\n",
    "        self.reached = dict()  # a dictionary of (state, node)\n",
    "        self.num_generated = 0\n",
    "        \n",
    "    def search(self, start_state, goal_state):\n",
    "\n",
    "        node = Node(start_state, None, None, 0)\n",
    "        self.frontier.push(node, 0)  # push node and its priority\n",
    "        self.reached[start_state] = node\n",
    "\n",
    "        while not self.frontier.is_empty():\n",
    "            # select a candidate node\n",
    "            node = self.frontier.pop()\n",
    "\n",
    "            # goal test\n",
    "            if node.state == goal_state:\n",
    "                return self._solution(node)\n",
    "\n",
    "            # expand        \n",
    "            for successor, action, step_cost in node.state.successors():\n",
    "                self.num_generated += 1\n",
    "                path_cost = node.cost + step_cost\n",
    "\n",
    "                if successor not in self.reached or path_cost < self.reached[successor].cost:\n",
    "                    child_node = Node(successor, node, action, path_cost)\n",
    "                    self.reached[successor] = child_node\n",
    "                    self.frontier.push(child_node, path_cost)\n",
    "\n",
    "        return None  # if no solution found\n",
    "    \n",
    "    def __call__(self, start_state, goal_state):\n",
    "        return self.search(start_state, goal_state)\n",
    "   \n",
    "    @staticmethod\n",
    "    def _solution(node):\n",
    "        path = []\n",
    "        while node.parent is not None:\n",
    "            path = [(node.state, node.action)] + path\n",
    "            node = node.parent\n",
    "        return path"
   ]
  },
  {
   "cell_type": "code",
   "execution_count": 8,
   "metadata": {},
   "outputs": [
    {
     "name": "stdout",
     "output_type": "stream",
     "text": [
      "Number of generated nodes: 122\n"
     ]
    },
    {
     "data": {
      "image/png": "[encoded data removed]",
      "text/plain": [
       "<Figure size 1296x216 with 6 Axes>"
      ]
     },
     "metadata": {
      "needs_background": "light"
     },
     "output_type": "display_data"
    }
   ],
   "source": [
    "ucs = UCS()\n",
    "solution_path = ucs(start_state, goal_state)\n",
    "\n",
    "print(f\"Number of generated nodes: {ucs.num_generated}\")\n",
    "show_solution(start_state, solution_path, ncols=6)"
   ]
  },
  {
   "cell_type": "markdown",
   "metadata": {},
   "source": [
    "**Note**: that because in this problem, the cost of all the actions are equal, the UCS strategy is exactly the same as BFS strategy (the unoptimized version)."
   ]
  },
  {
   "cell_type": "markdown",
   "metadata": {},
   "source": [
    "### DLS\n",
    "\n",
    "<img src='imgs/DLS_IDS.png' width='80%'>"
   ]
  },
  {
   "cell_type": "code",
   "execution_count": 9,
   "metadata": {},
   "outputs": [],
   "source": [
    "class DLS:\n",
    "    '''Depth Limitted Search'''\n",
    "    \n",
    "    def __init__(self):\n",
    "        self._initialize()\n",
    "        \n",
    "    def _initialize(self):\n",
    "        self.frontier = Stack()\n",
    "        self.num_generated = 0\n",
    "        self.result = 'failure'\n",
    "\n",
    "    def search(self, start_state, goal_state, limit=30):\n",
    "\n",
    "        def is_cycle(node):\n",
    "            state = node.state\n",
    "            while node.parent is not None:\n",
    "                if state == node.parent.state:\n",
    "                    return True\n",
    "                node = node.parent\n",
    "            return False\n",
    "        \n",
    "        self._initialize()\n",
    "        self.frontier.push(Node(start_state, None, None, 0))  # 0 is the depth of the start node\n",
    "\n",
    "        while not self.frontier.is_empty():\n",
    "            # select a candidate node\n",
    "            node = self.frontier.pop()\n",
    "\n",
    "            # goal test\n",
    "            if node.state == goal_state: \n",
    "                return self._solution(node)\n",
    "\n",
    "            # before expansion, check the depth limit\n",
    "            if node.cost >= limit:\n",
    "                self.result = 'cutoff'\n",
    "            elif not is_cycle(node):\n",
    "                # expand                \n",
    "                for successor, action, step_cost in node.state.successors():\n",
    "                    self.frontier.push(Node(successor, node, action, node.cost + step_cost))\n",
    "                    self.num_generated += 1\n",
    "\n",
    "        return self.result\n",
    "    \n",
    "    def __call__(self, start_state, goal_state, limit=30):\n",
    "        return self.search(start_state, goal_state, limit)\n",
    "\n",
    "    @staticmethod\n",
    "    def _solution(node):\n",
    "        path = []\n",
    "        while node.parent is not None:\n",
    "            path = [(node.state, node.action)] + path\n",
    "            node = node.parent\n",
    "        return path"
   ]
  },
  {
   "cell_type": "markdown",
   "metadata": {},
   "source": [
    "Perform a depth limitted search with depth limit 15."
   ]
  },
  {
   "cell_type": "code",
   "execution_count": 10,
   "metadata": {},
   "outputs": [
    {
     "name": "stdout",
     "output_type": "stream",
     "text": [
      "Number of generated nodes: 2347\n"
     ]
    },
    {
     "data": {
      "image/png": "[encoded data removed]",
      "text/plain": [
       "<Figure size 1296x648 with 18 Axes>"
      ]
     },
     "metadata": {
      "needs_background": "light"
     },
     "output_type": "display_data"
    }
   ],
   "source": [
    "dls = DLS()\n",
    "solution_path = dls(start_state, goal_state, limit=15)\n",
    "\n",
    "print(f\"Number of generated nodes: {dls.num_generated}\")\n",
    "show_solution(start_state, solution_path, ncols=6)"
   ]
  },
  {
   "cell_type": "markdown",
   "metadata": {},
   "source": [
    "Perform a depth limitted search with depth limit 10."
   ]
  },
  {
   "cell_type": "code",
   "execution_count": 11,
   "metadata": {},
   "outputs": [
    {
     "name": "stdout",
     "output_type": "stream",
     "text": [
      "Number of generated nodes: 823\n"
     ]
    },
    {
     "data": {
      "image/png": "[encoded data removed]",
      "text/plain": [
       "<Figure size 1296x216 with 6 Axes>"
      ]
     },
     "metadata": {
      "needs_background": "light"
     },
     "output_type": "display_data"
    }
   ],
   "source": [
    "solution_path = dls(start_state, goal_state, limit=10)\n",
    "\n",
    "print(f\"Number of generated nodes: {dls.num_generated}\")\n",
    "show_solution(start_state, solution_path, ncols=6)"
   ]
  },
  {
   "cell_type": "markdown",
   "metadata": {},
   "source": [
    "Perform a depth limitted search with depth limit 5."
   ]
  },
  {
   "cell_type": "code",
   "execution_count": 12,
   "metadata": {},
   "outputs": [
    {
     "name": "stdout",
     "output_type": "stream",
     "text": [
      "Number of generated nodes: 56\n"
     ]
    },
    {
     "data": {
      "image/png": "[encoded data removed]",
      "text/plain": [
       "<Figure size 1296x216 with 6 Axes>"
      ]
     },
     "metadata": {
      "needs_background": "light"
     },
     "output_type": "display_data"
    }
   ],
   "source": [
    "solution_path = dls(start_state, goal_state, limit=5)\n",
    "\n",
    "print(f\"Number of generated nodes: {dls.num_generated}\")\n",
    "show_solution(start_state, solution_path, ncols=6)"
   ]
  },
  {
   "cell_type": "markdown",
   "metadata": {},
   "source": [
    "Perform a depth limitted search with depth limit 3."
   ]
  },
  {
   "cell_type": "code",
   "execution_count": 13,
   "metadata": {},
   "outputs": [
    {
     "name": "stdout",
     "output_type": "stream",
     "text": [
      "Number of generated nodes: 26\n",
      "No solution found!\n"
     ]
    }
   ],
   "source": [
    "solution_path = dls(start_state, goal_state, limit=3)\n",
    "\n",
    "print(f\"Number of generated nodes: {dls.num_generated}\")\n",
    "show_solution(start_state, solution_path, ncols=6)"
   ]
  },
  {
   "cell_type": "markdown",
   "metadata": {},
   "source": [
    "### IDS"
   ]
  },
  {
   "cell_type": "code",
   "execution_count": 14,
   "metadata": {},
   "outputs": [],
   "source": [
    "class IDS:\n",
    "    '''Iterative Deepening Search'''\n",
    "    \n",
    "    def __init__(self):\n",
    "        self.num_generated = 0\n",
    "        self.dls = DLS()\n",
    "    \n",
    "    def search(self, start_state, goal_state):\n",
    "        limit = 0\n",
    "\n",
    "        while True:\n",
    "            solution_path = self.dls(start_state, goal_state, limit)\n",
    "            print(f'DLS (limit={limit}), number of generated nodes = {self.dls.num_generated:3d}')\n",
    "            limit += 1\n",
    "            self.num_generated += dls.num_generated\n",
    "\n",
    "            if isinstance(solution_path, list):\n",
    "                return solution_path\n",
    "            \n",
    "    def __call__(self, start_state, goal_state):\n",
    "        return self.search(start_state, goal_state)"
   ]
  },
  {
   "cell_type": "code",
   "execution_count": 15,
   "metadata": {},
   "outputs": [
    {
     "name": "stdout",
     "output_type": "stream",
     "text": [
      "DLS (limit=0), number of generated nodes =   0\n",
      "DLS (limit=1), number of generated nodes =   3\n",
      "DLS (limit=2), number of generated nodes =  11\n",
      "DLS (limit=3), number of generated nodes =  26\n",
      "DLS (limit=4), number of generated nodes =  50\n",
      "DLS (limit=5), number of generated nodes =  56\n",
      "Total number of generated nodes: 156\n"
     ]
    },
    {
     "data": {
      "image/png": "[encoded data removed]",
      "text/plain": [
       "<Figure size 1296x216 with 6 Axes>"
      ]
     },
     "metadata": {
      "needs_background": "light"
     },
     "output_type": "display_data"
    }
   ],
   "source": [
    "ids = IDS()\n",
    "solution_path = ids(start_state, goal_state)\n",
    "\n",
    "print(f\"Total number of generated nodes: {ids.num_generated}\")\n",
    "show_solution(start_state, solution_path, ncols=6)"
   ]
  },
  {
   "cell_type": "markdown",
   "metadata": {},
   "source": [
    "## Informed Search Strategies: OOP"
   ]
  },
  {
   "cell_type": "code",
   "execution_count": 16,
   "metadata": {},
   "outputs": [],
   "source": [
    "def h1(state, goal):\n",
    "    ''' Number of misplaced tiles heuristic\n",
    "    '''\n",
    "    return sum([state.tiles.index(tile) != goal.tiles.index(tile) \n",
    "                for tile in range(1, state.N + 1)])\n",
    "\n",
    "\n",
    "def h2(state, goal):\n",
    "    ''' Sum of manhatan distance heuristic\n",
    "    '''\n",
    "    return sum([manhatan_distance(tile, state, goal)\n",
    "                for tile in range(1, state.N + 1)])"
   ]
  },
  {
   "cell_type": "code",
   "execution_count": 17,
   "metadata": {},
   "outputs": [],
   "source": [
    "class Greedy:\n",
    "    '''Greedy Search'''\n",
    "    \n",
    "    def __init__(self):\n",
    "        self.num_generated = 0\n",
    "        self.frontier = PriorityQueue()\n",
    "        self.reached = dict()  # a dictionary of (state, node)\n",
    "\n",
    "        \n",
    "    def search(self, start_state, goal_state, heuristic):\n",
    "\n",
    "        node = Node(start_state, None, None, 0) \n",
    "        self.frontier.push(node, heuristic(start_state, goal_state))\n",
    "        self.reached[start_state] = node\n",
    "\n",
    "        while not self.frontier.is_empty():\n",
    "            # select a node\n",
    "            node = self.frontier.pop()\n",
    "\n",
    "            # goal test\n",
    "            if node.state == goal_state:\n",
    "                return self._solution(node)\n",
    "\n",
    "            # expand\n",
    "            for successor, action, step_cost in node.state.successors():\n",
    "                self.num_generated += 1\n",
    "                path_cost = node.cost + step_cost\n",
    "\n",
    "                if successor not in self.reached or path_cost < self.reached[successor].cost:\n",
    "                    child_node = Node(successor, node, action, path_cost)\n",
    "                    self.reached[successor] = child_node\n",
    "                    self.frontier.push(child_node, heuristic(successor, goal_state))\n",
    "\n",
    "        return None  # no solution found\n",
    "    \n",
    "    def __call__(self, start_state, goal_state, heuristic):\n",
    "        return self.search(start_state, goal_state, heuristic)\n",
    "\n",
    "    @staticmethod\n",
    "    def _solution(node):\n",
    "        path = []\n",
    "        while node.parent is not None:\n",
    "            path = [(node.state, node.action)] + path\n",
    "            node = node.parent\n",
    "        return path"
   ]
  },
  {
   "cell_type": "code",
   "execution_count": 18,
   "metadata": {
    "scrolled": true
   },
   "outputs": [
    {
     "name": "stdout",
     "output_type": "stream",
     "text": [
      "Number of generated nodes: 18\n"
     ]
    },
    {
     "data": {
      "image/png": "[encoded data removed]",
      "text/plain": [
       "<Figure size 1296x216 with 6 Axes>"
      ]
     },
     "metadata": {
      "needs_background": "light"
     },
     "output_type": "display_data"
    }
   ],
   "source": [
    "greedy = Greedy()\n",
    "solution_path = greedy(start_state, goal_state, h1)\n",
    "\n",
    "print(f\"Number of generated nodes: {greedy.num_generated}\")\n",
    "show_solution(start_state, solution_path, ncols=6)"
   ]
  },
  {
   "cell_type": "markdown",
   "metadata": {},
   "source": [
    "### A-Star"
   ]
  },
  {
   "cell_type": "code",
   "execution_count": 19,
   "metadata": {},
   "outputs": [],
   "source": [
    "class AStar:\n",
    "    '''A-Star Search'''\n",
    "    \n",
    "    def __init__(self):\n",
    "        self.num_generated = 0\n",
    "        self.frontier = PriorityQueue()\n",
    "        self.reached = dict()  # a dictionary of (state, node)\n",
    "\n",
    "    def search(self, start_state, goal_state, heuristic):\n",
    "        node = Node(start_state, None, None, 0) \n",
    "        self.frontier.push(node, 0 + heuristic(start_state, goal_state))\n",
    "        self.reached[start_state] = node\n",
    "\n",
    "        while not self.frontier.is_empty():\n",
    "            # select a node\n",
    "            node = self.frontier.pop()\n",
    "\n",
    "            # goal test\n",
    "            if node.state == goal_state:\n",
    "                return self._solution(node)\n",
    "\n",
    "            # expand\n",
    "            for successor, action, step_cost in node.state.successors():\n",
    "                self.num_generated += 1\n",
    "                path_cost = node.cost + step_cost\n",
    "\n",
    "                if successor not in self.reached or path_cost < self.reached[successor].cost:\n",
    "                    child_node = Node(successor, node, action, path_cost)\n",
    "                    self.reached[successor] = child_node\n",
    "                    self.frontier.push(child_node, path_cost + heuristic(successor, goal_state))\n",
    "\n",
    "        return None  # no solution found\n",
    "    \n",
    "    def __call__(self, start_state, goal_state, heuristic):\n",
    "        return self.search(start_state, goal_state, heuristic)\n",
    "\n",
    "    @staticmethod\n",
    "    def _solution(node):\n",
    "        path = []\n",
    "        while node.parent is not None:\n",
    "            path = [(node.state, node.action)] + path\n",
    "            node = node.parent\n",
    "        return path"
   ]
  },
  {
   "cell_type": "code",
   "execution_count": 20,
   "metadata": {},
   "outputs": [
    {
     "name": "stdout",
     "output_type": "stream",
     "text": [
      "Number of generated nodes = 15\n"
     ]
    },
    {
     "data": {
      "image/png": "[encoded data removed]",
      "text/plain": [
       "<Figure size 1296x216 with 6 Axes>"
      ]
     },
     "metadata": {
      "needs_background": "light"
     },
     "output_type": "display_data"
    }
   ],
   "source": [
    "a_star = AStar()\n",
    "path = a_star(start_state, goal_state, h2)\n",
    "\n",
    "print(f\"Number of generated nodes = {a_star.num_generated}\")\n",
    "show_solution(start_state, path, ncols=6)"
   ]
  },
  {
   "cell_type": "markdown",
   "metadata": {},
   "source": [
    "## What is next?\n",
    "- Time complexity of uninformed search strategies are **exponential**!\n",
    "- Therefore, we need faster search strategis to solve hard real problems.\n",
    "- In the next lesson, we will explore some informed search strategies which are usually much faster than uninformed search strategies."
   ]
  }
 ],
 "metadata": {
  "interpreter": {
   "hash": "31f2aee4e71d21fbe5cf8b01ff0e069b9275f58929596ceb00d14d90e3e16cd6"
  },
  "kernelspec": {
   "display_name": "Python 3 (ipykernel)",
   "language": "python",
   "name": "python3"
  },
  "language_info": {
   "codemirror_mode": {
    "name": "ipython",
    "version": 3
   },
   "file_extension": ".py",
   "mimetype": "text/x-python",
   "name": "python",
   "nbconvert_exporter": "python",
   "pygments_lexer": "ipython3",
   "version": "3.9.7"
  }
 },
 "nbformat": 4,
 "nbformat_minor": 2
}
