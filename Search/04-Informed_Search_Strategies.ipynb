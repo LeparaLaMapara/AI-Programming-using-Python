{
 "cells": [
  {
   "cell_type": "markdown",
   "metadata": {},
   "source": [
    "<div class='alert alert-success'>\n",
    "    <h1 align=\"center\">Search Algorithms: Informed Search Strategies</h1> \n",
    "    <h3 align=\"center\">Artificial Intelligece Course (Fall 2021)</h3>\n",
    "    <h5 align=\"center\">Seyed Naser RAZAVI <a href='http://www.snrazavi.ir/ai-slides/'>(website)</a></h5>\n",
    "</div>"
   ]
  },
  {
   "cell_type": "code",
   "execution_count": 1,
   "metadata": {
    "scrolled": true
   },
   "outputs": [],
   "source": [
    "%matplotlib inline\n",
    "%reload_ext autoreload\n",
    "%autoreload 2\n",
    "\n",
    "import matplotlib.pyplot as plt\n",
    "from collections import namedtuple\n",
    "\n",
    "from utils import *\n",
    "from npuzzle import NPuzzleState"
   ]
  },
  {
   "cell_type": "markdown",
   "metadata": {},
   "source": [
    "## Contents\n",
    "- Heuristics\n",
    "- ninformed Search Strategies\n",
    " - Greedy, A-star, RBFS"
   ]
  },
  {
   "cell_type": "markdown",
   "metadata": {},
   "source": [
    "## 8-puzzle Problem\n",
    "\n",
    "<img src='imgs/eight_puzzle_start_goal_actions.png' width='70%'>\n",
    "<h6 align='center'>8-puzzle Problem (figure from <a href='http://ai.berkeley.edu/home.html'> AI Berekley</a>)</h6>\n",
    "\n",
    "The 8-puzzle is a sliding puzzle that consists of a frame of numbered square tiles from 1 to 8 in random order with one tile missing. The object of the puzzle is to place the tiles in order by making sliding moves that use the empty space.\n",
    "\n",
    "Note that this puzzle also exists in other sizes, for example 3-puzzle (2x2), 15-puzzle (4x4), 24-puzzle (5x5), etc."
   ]
  },
  {
   "cell_type": "code",
   "execution_count": 2,
   "metadata": {},
   "outputs": [
    {
     "data": {
      "image/png": "[encoded data removed]",
      "text/plain": [
       "<Figure size 432x216 with 2 Axes>"
      ]
     },
     "metadata": {
      "needs_background": "light"
     },
     "output_type": "display_data"
    }
   ],
   "source": [
    "start_state_tiles = [\n",
    "    2, 8, 3, \n",
    "    1, 6, 4, \n",
    "    7, 0, 5]\n",
    "\n",
    "goal_state_tiles = [\n",
    "    1, 2, 3, \n",
    "    8, 0, 4,\n",
    "    7, 6, 5]\n",
    "\n",
    "# define start state and goal state\n",
    "start_state = NPuzzleState(tiles=start_state_tiles)\n",
    "goal_state = NPuzzleState(tiles=goal_state_tiles)\n",
    "\n",
    "# plot the start state and the goal state\n",
    "fig, axes = plt.subplots(1, 2, figsize=(6, 3))\n",
    "start_state.plot(axes[0], 'Start')\n",
    "goal_state.plot(axes[1], 'Goal')\n",
    "plt.show()"
   ]
  },
  {
   "cell_type": "markdown",
   "metadata": {},
   "source": [
    "## Heuristics"
   ]
  },
  {
   "cell_type": "code",
   "execution_count": 3,
   "metadata": {},
   "outputs": [],
   "source": [
    "def h1(state, goal):\n",
    "    ''' Number of misplaced tiles heuristic\n",
    "    '''\n",
    "    return sum([state.tiles.index(tile) != goal.tiles.index(tile) \n",
    "                for tile in range(1, state.N + 1)])\n",
    "\n",
    "\n",
    "\n",
    "def h2(state, goal):\n",
    "    ''' Sum of manhatan distance heuristic\n",
    "    '''\n",
    "    return sum([manhatan_distance(tile, state, goal)\n",
    "                for tile in range(1, state.N + 1)])"
   ]
  },
  {
   "cell_type": "code",
   "execution_count": 4,
   "metadata": {},
   "outputs": [
    {
     "name": "stdout",
     "output_type": "stream",
     "text": [
      "h1(start) = 4\n",
      "h2(start) = 5\n"
     ]
    }
   ],
   "source": [
    "print(f\"h1(start) = {h1(start_state, goal_state)}\")\n",
    "print(f\"h2(start) = {h2(start_state, goal_state)}\")"
   ]
  },
  {
   "cell_type": "markdown",
   "metadata": {},
   "source": [
    "### Greedy Search"
   ]
  },
  {
   "cell_type": "markdown",
   "metadata": {},
   "source": [
    "- Evaluate each generated node in the search tree using:\n",
    "$$f(n) = h(n)$$\n",
    "where $h(n)$ is the heuristic function.\n",
    "- Put the unexpanded nodes in the frontier (which is a priority queue) according to their distance to the goal state.\n",
    "- At each iteration, the greedy search selects an unexpanded node which appears to be closest to the goal."
   ]
  },
  {
   "cell_type": "markdown",
   "metadata": {},
   "source": [
    "<img src='imgs/Best_First.png' width='80%'>"
   ]
  },
  {
   "cell_type": "code",
   "execution_count": 5,
   "metadata": {},
   "outputs": [],
   "source": [
    "Node = namedtuple('Node', 'state parent action cost')\n",
    "\n",
    "\n",
    "def greedy_search(start_state, goal_state, heuristic=h1):\n",
    "    \n",
    "    num_generated = 0\n",
    "    frontier = PriorityQueue()\n",
    "    reached = dict()  # a dictionary of (state, node)\n",
    "\n",
    "    node = Node(start_state, None, None, 0) \n",
    "    frontier.push(node, heuristic(start_state, goal_state))\n",
    "    reached[start_state] = node\n",
    "\n",
    "    while not frontier.is_empty():\n",
    "        # select a node\n",
    "        node = frontier.pop()\n",
    "        \n",
    "        # goal test\n",
    "        if node.state == goal_state:\n",
    "            return solution(node), num_generated\n",
    "        \n",
    "        # expand\n",
    "        for successor, action, step_cost in node.state.successors():\n",
    "            num_generated += 1\n",
    "            path_cost = node.cost + step_cost\n",
    "            \n",
    "            if successor not in reached or path_cost < reached[successor].cost:\n",
    "                child_node = Node(successor, node, action, path_cost)\n",
    "                reached[successor] = child_node\n",
    "                frontier.push(child_node, heuristic(successor, goal_state))\n",
    "        \n",
    "    return None, num_generated  # no solution found"
   ]
  },
  {
   "cell_type": "markdown",
   "metadata": {},
   "source": [
    "Perform greedy search using $h_1(n)$ (number of misplaced tiles)."
   ]
  },
  {
   "cell_type": "code",
   "execution_count": 6,
   "metadata": {},
   "outputs": [
    {
     "name": "stdout",
     "output_type": "stream",
     "text": [
      "Number of generated nodes: 18\n"
     ]
    },
    {
     "data": {
      "image/png": "[encoded data removed]",
      "text/plain": [
       "<Figure size 1296x216 with 6 Axes>"
      ]
     },
     "metadata": {
      "needs_background": "light"
     },
     "output_type": "display_data"
    }
   ],
   "source": [
    "solution_path, N = greedy_search(start_state, goal_state, heuristic=h1)\n",
    "\n",
    "print(f\"Number of generated nodes: {N}\")\n",
    "show_solution(start_state, solution_path, ncols=6)"
   ]
  },
  {
   "cell_type": "markdown",
   "metadata": {},
   "source": [
    "Perform greedy search using $h_2(n)$ (total manhattan distance)."
   ]
  },
  {
   "cell_type": "code",
   "execution_count": null,
   "metadata": {},
   "outputs": [],
   "source": [
    "solution_path, N = greedy_search(start_state, goal_state, heuristic=h2)\n",
    "\n",
    "print(f\"Number of generated nodes: {N}\")\n",
    "show_solution(start_state, solution_path, ncols=6)"
   ]
  },
  {
   "cell_type": "markdown",
   "metadata": {},
   "source": [
    "### A* Search"
   ]
  },
  {
   "cell_type": "markdown",
   "metadata": {},
   "source": [
    "- Evaluate each generated node in the search tree using:\n",
    "$$f(n) = g(n) + h(n)$$\n",
    "where $g(n)$ is the path cost from root to node $n$ and $h(n)$ is the heuristic function.\n",
    "- Put the unexpanded nodes in the frontier (which is a priority queue) according to their evaluation $f(n)$.\n",
    "- At each iteration, the A* search selects an unexpanded node with minimum f-cost."
   ]
  },
  {
   "cell_type": "code",
   "execution_count": null,
   "metadata": {},
   "outputs": [],
   "source": [
    "def a_star_search(start_state, goal_state, heuristic=h1):\n",
    "    \n",
    "    num_generated = 0\n",
    "    frontier = PriorityQueue()\n",
    "    reached = dict()  # a dictionary of (state, node)\n",
    "\n",
    "    node = Node(start_state, None, None, 0) \n",
    "    frontier.push(node, 0 + heuristic(start_state, goal_state))\n",
    "    reached[start_state] = node\n",
    "\n",
    "    while not frontier.is_empty():\n",
    "        # select a node\n",
    "        node = frontier.pop()\n",
    "        \n",
    "        # goal test\n",
    "        if node.state == goal_state:\n",
    "            return solution(node), num_generated\n",
    "        \n",
    "        # expand\n",
    "        for successor, action, step_cost in node.state.successors():\n",
    "            num_generated += 1\n",
    "            path_cost = node.cost + step_cost\n",
    "            \n",
    "            if successor not in reached or path_cost < reached[successor].cost:\n",
    "                child_node = Node(successor, node, action, path_cost)\n",
    "                reached[successor] = child_node\n",
    "                frontier.push(child_node, path_cost + heuristic(successor, goal_state))\n",
    "        \n",
    "    return None, num_generated  # no solution found"
   ]
  },
  {
   "cell_type": "markdown",
   "metadata": {},
   "source": [
    "Perform A* using $h_1(n)$ (number of misplaced tiles)."
   ]
  },
  {
   "cell_type": "code",
   "execution_count": null,
   "metadata": {},
   "outputs": [],
   "source": [
    "path, num_generated = a_star_search(start_state, goal_state, heuristic=h1)\n",
    "\n",
    "print(f\"Number of generated nodes = {num_generated}\")\n",
    "show_solution(start_state, path, ncols=6)"
   ]
  },
  {
   "cell_type": "markdown",
   "metadata": {},
   "source": [
    "Perform A* using $h_2(n)$ (total manhattan distance)."
   ]
  },
  {
   "cell_type": "code",
   "execution_count": null,
   "metadata": {},
   "outputs": [],
   "source": [
    "path, num_generated = a_star_search(start_state, goal_state, heuristic=h2)\n",
    "\n",
    "print(f\"Number of generated nodes = {num_generated}\")\n",
    "show_solution(start_state, path, ncols=6)"
   ]
  },
  {
   "cell_type": "markdown",
   "metadata": {},
   "source": [
    "#### Finding path for a random initial sate"
   ]
  },
  {
   "cell_type": "code",
   "execution_count": null,
   "metadata": {},
   "outputs": [],
   "source": [
    "def create_random_initial_state(goal_state, max_steps=50):\n",
    "    state = NPuzzleState(tiles=goal_state.tiles)\n",
    "    for i in range(max_steps):\n",
    "        state = random.choice(state.successors())[0]\n",
    "    return state\n",
    "\n",
    "\n",
    "initial_state = create_random_initial_state(goal_state)\n",
    "print('Random initial state:')\n",
    "initial_state.plot(fs=28)"
   ]
  },
  {
   "cell_type": "markdown",
   "metadata": {},
   "source": [
    "Perform A* using $h_2(n)$ (total manhattan distance)."
   ]
  },
  {
   "cell_type": "code",
   "execution_count": null,
   "metadata": {},
   "outputs": [],
   "source": [
    "path, N = a_star_search(initial_state, goal_state, heuristic=h2)\n",
    "\n",
    "print(f\"Number of generated nodes: {N}\")\n",
    "show_solution(initial_state, path, ncols=10)"
   ]
  },
  {
   "cell_type": "markdown",
   "metadata": {},
   "source": [
    "Perform A* using $h_1(n)$ (number of misplaced tiles)."
   ]
  },
  {
   "cell_type": "code",
   "execution_count": null,
   "metadata": {},
   "outputs": [],
   "source": [
    "path, N = a_star_search(initial_state, goal_state, heuristic=h1)\n",
    "\n",
    "print(f\"Number of generated nodes: {N}\")\n",
    "show_solution(start_state, path, ncols=10)"
   ]
  },
  {
   "cell_type": "markdown",
   "metadata": {},
   "source": [
    "Perform A* using $h_2(n)$ (total manhattan distance)."
   ]
  },
  {
   "cell_type": "markdown",
   "metadata": {},
   "source": [
    "## 15-Puzzle"
   ]
  },
  {
   "cell_type": "code",
   "execution_count": null,
   "metadata": {},
   "outputs": [],
   "source": [
    "# create goal state and start state\n",
    "goal_state = NPuzzleState(15)\n",
    "start_state = create_random_initial_state(goal_state, max_steps=100)\n",
    "\n",
    "# plot strat state and goal state\n",
    "fig, axes = plt.subplots(1, 2, figsize=(6, 3))\n",
    "start_state.plot(axes[0], 'Start', fs=20)\n",
    "goal_state.plot(axes[1], 'Goal', fs=20)"
   ]
  },
  {
   "cell_type": "markdown",
   "metadata": {},
   "source": [
    "Perform A* using $h_1(n)$ (number of misplaced tiles)."
   ]
  },
  {
   "cell_type": "code",
   "execution_count": null,
   "metadata": {},
   "outputs": [],
   "source": [
    "path, N = a_star_search(start_state, goal_state, heuristic=h1)\n",
    "\n",
    "print(f\"Number of generated nodes: {N}\")\n",
    "show_solution(start_state, path, ncols=10)"
   ]
  },
  {
   "cell_type": "markdown",
   "metadata": {},
   "source": [
    "Perform A* using $h_2(n)$ (total manhattan distance)."
   ]
  },
  {
   "cell_type": "code",
   "execution_count": null,
   "metadata": {},
   "outputs": [],
   "source": [
    "path, N = a_star_search(start_state, goal_state, heuristic=h2)\n",
    "\n",
    "print(f\"Number of generated nodes: {N}\")\n",
    "show_solution(start_state, path, ncols=10)"
   ]
  },
  {
   "cell_type": "markdown",
   "metadata": {},
   "source": [
    "## 24-Puzzle"
   ]
  },
  {
   "cell_type": "code",
   "execution_count": null,
   "metadata": {},
   "outputs": [],
   "source": [
    "# create goal state and start state\n",
    "goal_state = NPuzzleState(24)\n",
    "start_state = create_random_initial_state(goal_state, max_steps=100)\n",
    "\n",
    "# plot strat state and goal state\n",
    "fig, axes = plt.subplots(1, 2, figsize=(6, 3))\n",
    "start_state.plot(axes[0], 'Start', fs=16)\n",
    "goal_state.plot(axes[1], 'Goal', fs=16)"
   ]
  },
  {
   "cell_type": "markdown",
   "metadata": {},
   "source": [
    "Perform A* using $h_1(n)$ (number of misplaced tiles)."
   ]
  },
  {
   "cell_type": "markdown",
   "metadata": {},
   "source": [
    "Perform A* using $h_2(n)$ (total manhattan distance)."
   ]
  },
  {
   "cell_type": "code",
   "execution_count": null,
   "metadata": {},
   "outputs": [],
   "source": [
    "path, N = a_star_search(start_state, goal_state, heuristic=h2)\n",
    "\n",
    "print(f\"Number of generated nodes: {N}\")\n",
    "show_solution(start_state, path, ncols=8)"
   ]
  },
  {
   "cell_type": "code",
   "execution_count": null,
   "metadata": {},
   "outputs": [],
   "source": [
    "path, N = a_star_search(start_state, goal_state, heuristic=h1)\n",
    "\n",
    "print(f\"Number of generated nodes: {N}\")\n",
    "show_solution(start_state, path, ncols=10)"
   ]
  },
  {
   "cell_type": "markdown",
   "metadata": {},
   "source": [
    "## What's next?\n",
    "- So far, we have solved search problems in which the aim was to find a path from initial state to the goal state.\n",
    "- But in real world, there are many problems in which the goal state in not specified and in fact the aim is to find the goal state itself.\n",
    "- In the next lesson, we will explore and implement local search algorithms to solve these kinds of problems."
   ]
  }
 ],
 "metadata": {
  "interpreter": {
   "hash": "31f2aee4e71d21fbe5cf8b01ff0e069b9275f58929596ceb00d14d90e3e16cd6"
  },
  "kernelspec": {
   "display_name": "Python 3 (ipykernel)",
   "language": "python",
   "name": "python3"
  },
  "language_info": {
   "codemirror_mode": {
    "name": "ipython",
    "version": 3
   },
   "file_extension": ".py",
   "mimetype": "text/x-python",
   "name": "python",
   "nbconvert_exporter": "python",
   "pygments_lexer": "ipython3",
   "version": "3.9.6"
  }
 },
 "nbformat": 4,
 "nbformat_minor": 2
}
